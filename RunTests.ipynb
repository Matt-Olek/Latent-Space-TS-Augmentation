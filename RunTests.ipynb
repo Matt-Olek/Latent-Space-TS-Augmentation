{
 "cells": [
  {
   "cell_type": "markdown",
   "metadata": {},
   "source": [
    "# Testing and comparing Auto Augmentation techniques\n",
    "***\n",
    "Matthieu Olekhnovitch - SnT - University of Luxembourg"
   ]
  }
 ],
 "metadata": {
  "language_info": {
   "name": "python"
  }
 },
 "nbformat": 4,
 "nbformat_minor": 2
}
